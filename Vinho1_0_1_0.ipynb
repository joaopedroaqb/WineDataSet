{
  "nbformat": 4,
  "nbformat_minor": 0,
  "metadata": {
    "colab": {
      "provenance": []
    },
    "kernelspec": {
      "name": "python3",
      "display_name": "Python 3"
    },
    "language_info": {
      "name": "python"
    }
  },
  "cells": [
    {
      "cell_type": "markdown",
      "source": [
        "Relatorio:\n",
        "\n",
        "* Serão 3 tipos de classes.\n",
        "  - Sendo atribuido valores ao primeiro de 59\n",
        "  - Ao segundo de  segundo de 71 \n",
        "  - Ao terceiro de 48.\n",
        "  \n",
        "* No total termos um total de 178. \n",
        "* Com uma dimensão de valor 13.\n",
        "* tendo no final dois valores existentes\n",
        "  - Real ou Positivo."
      ],
      "metadata": {
        "id": "lZ4hzQs6buuv"
      }
    },
    {
      "cell_type": "code",
      "source": [
        "import torch"
      ],
      "metadata": {
        "id": "NaO653oQfKjr"
      },
      "execution_count": null,
      "outputs": []
    },
    {
      "cell_type": "code",
      "source": [
        "class Net(torch.nn.Module):\n",
        "  def __init__(self, input_size, hidden_size):\n",
        "    super(Net, self).__init__()\n",
        "    self.input_size = input_size\n",
        "    self.hidden_size = hidden_size\n",
        "    self.fc1 = torch.nn.Linear(self.input_size, self.hidden_size) #full connected\n",
        "    self.relu = torch.nn.ReLU() #(0, infinito)\n",
        "    self.fc2 = torch.nn.Linear(self.hidden_size, 1)\n",
        "    self.sigmoid = torch.nn.Sigmoid() #(0, 1)\n",
        "  def forward(self, x):\n",
        "    hidden = self.fc1(x)\n",
        "    relu = self.relu(hidden)\n",
        "    output = self.fc2(relu)\n",
        "    output = self.sigmoid(output)\n",
        "    return output"
      ],
      "metadata": {
        "id": "YtksPpr5f6QY"
      },
      "execution_count": null,
      "outputs": []
    },
    {
      "cell_type": "code",
      "source": [
        "from sklearn import datasets\n",
        "wine = datasets.load_wine()\n",
        "dados = wine.data\n",
        "classes = wine.target\n",
        "nomesClasses = wine.target_names"
      ],
      "metadata": {
        "id": "AEG3VXZtgD1_"
      },
      "execution_count": null,
      "outputs": []
    },
    {
      "cell_type": "code",
      "source": [
        "classes.size"
      ],
      "metadata": {
        "colab": {
          "base_uri": "https://localhost:8080/"
        },
        "id": "fZNC7SXIjPpt",
        "outputId": "7636fd75-d281-40db-d91f-1b6f9c20f4bc"
      },
      "execution_count": null,
      "outputs": [
        {
          "output_type": "execute_result",
          "data": {
            "text/plain": [
              "178"
            ]
          },
          "metadata": {},
          "execution_count": 4
        }
      ]
    },
    {
      "cell_type": "code",
      "source": [
        "dados"
      ],
      "metadata": {
        "colab": {
          "base_uri": "https://localhost:8080/"
        },
        "id": "32pS018rjULt",
        "outputId": "2c6125b8-e201-417f-e11a-e9203dc31c9f"
      },
      "execution_count": null,
      "outputs": [
        {
          "output_type": "execute_result",
          "data": {
            "text/plain": [
              "array([[1.423e+01, 1.710e+00, 2.430e+00, ..., 1.040e+00, 3.920e+00,\n",
              "        1.065e+03],\n",
              "       [1.320e+01, 1.780e+00, 2.140e+00, ..., 1.050e+00, 3.400e+00,\n",
              "        1.050e+03],\n",
              "       [1.316e+01, 2.360e+00, 2.670e+00, ..., 1.030e+00, 3.170e+00,\n",
              "        1.185e+03],\n",
              "       ...,\n",
              "       [1.327e+01, 4.280e+00, 2.260e+00, ..., 5.900e-01, 1.560e+00,\n",
              "        8.350e+02],\n",
              "       [1.317e+01, 2.590e+00, 2.370e+00, ..., 6.000e-01, 1.620e+00,\n",
              "        8.400e+02],\n",
              "       [1.413e+01, 4.100e+00, 2.740e+00, ..., 6.100e-01, 1.600e+00,\n",
              "        5.600e+02]])"
            ]
          },
          "metadata": {},
          "execution_count": 5
        }
      ]
    },
    {
      "cell_type": "code",
      "source": [
        "for coluna in dados.T:\n",
        "  # print(coluna.max()) # Valores máximos de cada coluna\n",
        "  if coluna.max() < 1:\n",
        "    coluna = coluna / 1\n",
        "  elif coluna.max() < 10:\n",
        "    coluna /= 10\n",
        "  elif coluna.max() < 100:\n",
        "    coluna /= 100\n",
        "  elif coluna.max() < 1000:\n",
        "    coluna /= 1000\n",
        "  elif coluna.max() < 10000:\n",
        "    coluna /= 10000\n",
        "  else:\n",
        "    print('Erro')"
      ],
      "metadata": {
        "id": "3b0AXqPQ3GqR"
      },
      "execution_count": null,
      "outputs": []
    },
    {
      "cell_type": "code",
      "source": [
        "import numpy as np\n",
        "# saida = np.where(condição, true, false)\n",
        "saida = np.where(classes== 0, 1, 0)\n",
        "print(saida)"
      ],
      "metadata": {
        "colab": {
          "base_uri": "https://localhost:8080/"
        },
        "id": "cEAonZ4go0ac",
        "outputId": "7ae6c0dc-9ca0-4af0-cf0d-97bb42033e29"
      },
      "execution_count": null,
      "outputs": [
        {
          "output_type": "stream",
          "name": "stdout",
          "text": [
            "[1 1 1 1 1 1 1 1 1 1 1 1 1 1 1 1 1 1 1 1 1 1 1 1 1 1 1 1 1 1 1 1 1 1 1 1 1\n",
            " 1 1 1 1 1 1 1 1 1 1 1 1 1 1 1 1 1 1 1 1 1 1 0 0 0 0 0 0 0 0 0 0 0 0 0 0 0\n",
            " 0 0 0 0 0 0 0 0 0 0 0 0 0 0 0 0 0 0 0 0 0 0 0 0 0 0 0 0 0 0 0 0 0 0 0 0 0\n",
            " 0 0 0 0 0 0 0 0 0 0 0 0 0 0 0 0 0 0 0 0 0 0 0 0 0 0 0 0 0 0 0 0 0 0 0 0 0\n",
            " 0 0 0 0 0 0 0 0 0 0 0 0 0 0 0 0 0 0 0 0 0 0 0 0 0 0 0 0 0 0]\n"
          ]
        }
      ]
    },
    {
      "cell_type": "code",
      "source": [
        "entrada = torch.FloatTensor(dados)\n",
        "saida = torch.FloatTensor(saida)\n",
        "print(saida)"
      ],
      "metadata": {
        "colab": {
          "base_uri": "https://localhost:8080/"
        },
        "id": "A-Uvv_piqJwZ",
        "outputId": "d8786735-c89a-4d91-e5c2-2a772b641e90"
      },
      "execution_count": null,
      "outputs": [
        {
          "output_type": "stream",
          "name": "stdout",
          "text": [
            "tensor([1., 1., 1., 1., 1., 1., 1., 1., 1., 1., 1., 1., 1., 1., 1., 1., 1., 1.,\n",
            "        1., 1., 1., 1., 1., 1., 1., 1., 1., 1., 1., 1., 1., 1., 1., 1., 1., 1.,\n",
            "        1., 1., 1., 1., 1., 1., 1., 1., 1., 1., 1., 1., 1., 1., 1., 1., 1., 1.,\n",
            "        1., 1., 1., 1., 1., 0., 0., 0., 0., 0., 0., 0., 0., 0., 0., 0., 0., 0.,\n",
            "        0., 0., 0., 0., 0., 0., 0., 0., 0., 0., 0., 0., 0., 0., 0., 0., 0., 0.,\n",
            "        0., 0., 0., 0., 0., 0., 0., 0., 0., 0., 0., 0., 0., 0., 0., 0., 0., 0.,\n",
            "        0., 0., 0., 0., 0., 0., 0., 0., 0., 0., 0., 0., 0., 0., 0., 0., 0., 0.,\n",
            "        0., 0., 0., 0., 0., 0., 0., 0., 0., 0., 0., 0., 0., 0., 0., 0., 0., 0.,\n",
            "        0., 0., 0., 0., 0., 0., 0., 0., 0., 0., 0., 0., 0., 0., 0., 0., 0., 0.,\n",
            "        0., 0., 0., 0., 0., 0., 0., 0., 0., 0., 0., 0., 0., 0., 0., 0.])\n"
          ]
        }
      ]
    },
    {
      "cell_type": "code",
      "source": [
        "from sklearn.utils import shuffle\n",
        "print(entrada, saida)\n",
        "entrada, saida = shuffle(entrada, saida)\n",
        "print(entrada, saida)"
      ],
      "metadata": {
        "colab": {
          "base_uri": "https://localhost:8080/"
        },
        "id": "Dkb5xrPQlpCW",
        "outputId": "63145c54-b330-4b26-b721-327838cdc820"
      },
      "execution_count": null,
      "outputs": [
        {
          "output_type": "stream",
          "name": "stdout",
          "text": [
            "tensor([[0.1423, 0.1710, 0.2430,  ..., 0.1040, 0.3920, 0.1065],\n",
            "        [0.1320, 0.1780, 0.2140,  ..., 0.1050, 0.3400, 0.1050],\n",
            "        [0.1316, 0.2360, 0.2670,  ..., 0.1030, 0.3170, 0.1185],\n",
            "        ...,\n",
            "        [0.1327, 0.4280, 0.2260,  ..., 0.0590, 0.1560, 0.0835],\n",
            "        [0.1317, 0.2590, 0.2370,  ..., 0.0600, 0.1620, 0.0840],\n",
            "        [0.1413, 0.4100, 0.2740,  ..., 0.0610, 0.1600, 0.0560]]) tensor([1., 1., 1., 1., 1., 1., 1., 1., 1., 1., 1., 1., 1., 1., 1., 1., 1., 1.,\n",
            "        1., 1., 1., 1., 1., 1., 1., 1., 1., 1., 1., 1., 1., 1., 1., 1., 1., 1.,\n",
            "        1., 1., 1., 1., 1., 1., 1., 1., 1., 1., 1., 1., 1., 1., 1., 1., 1., 1.,\n",
            "        1., 1., 1., 1., 1., 0., 0., 0., 0., 0., 0., 0., 0., 0., 0., 0., 0., 0.,\n",
            "        0., 0., 0., 0., 0., 0., 0., 0., 0., 0., 0., 0., 0., 0., 0., 0., 0., 0.,\n",
            "        0., 0., 0., 0., 0., 0., 0., 0., 0., 0., 0., 0., 0., 0., 0., 0., 0., 0.,\n",
            "        0., 0., 0., 0., 0., 0., 0., 0., 0., 0., 0., 0., 0., 0., 0., 0., 0., 0.,\n",
            "        0., 0., 0., 0., 0., 0., 0., 0., 0., 0., 0., 0., 0., 0., 0., 0., 0., 0.,\n",
            "        0., 0., 0., 0., 0., 0., 0., 0., 0., 0., 0., 0., 0., 0., 0., 0., 0., 0.,\n",
            "        0., 0., 0., 0., 0., 0., 0., 0., 0., 0., 0., 0., 0., 0., 0., 0.])\n",
            "tensor([[0.1410, 0.2160, 0.2300,  ..., 0.1250, 0.3170, 0.1510],\n",
            "        [0.1356, 0.1730, 0.2460,  ..., 0.0980, 0.3030, 0.1120],\n",
            "        [0.1284, 0.2960, 0.2610,  ..., 0.0890, 0.2150, 0.0590],\n",
            "        ...,\n",
            "        [0.1345, 0.3700, 0.2600,  ..., 0.0850, 0.1560, 0.0695],\n",
            "        [0.1182, 0.1720, 0.1880,  ..., 0.0940, 0.2440, 0.0415],\n",
            "        [0.1279, 0.2670, 0.2480,  ..., 0.0480, 0.1470, 0.0480]]) tensor([1., 1., 0., 0., 1., 0., 1., 0., 0., 1., 0., 0., 0., 0., 1., 1., 0., 0.,\n",
            "        0., 0., 0., 1., 1., 0., 1., 0., 0., 0., 0., 0., 1., 1., 0., 0., 0., 0.,\n",
            "        0., 0., 0., 0., 0., 0., 1., 0., 1., 1., 0., 0., 0., 1., 0., 1., 1., 0.,\n",
            "        0., 1., 0., 1., 1., 1., 0., 0., 0., 0., 0., 1., 0., 0., 1., 0., 0., 1.,\n",
            "        1., 0., 1., 0., 0., 1., 1., 0., 1., 0., 0., 0., 1., 0., 0., 0., 0., 0.,\n",
            "        0., 0., 0., 1., 0., 0., 1., 0., 0., 1., 0., 0., 0., 0., 0., 0., 0., 0.,\n",
            "        1., 0., 1., 1., 0., 0., 0., 0., 0., 0., 0., 1., 0., 0., 1., 1., 0., 0.,\n",
            "        0., 0., 1., 1., 0., 0., 0., 1., 1., 0., 1., 0., 1., 0., 1., 0., 1., 0.,\n",
            "        0., 0., 1., 0., 1., 0., 1., 0., 0., 1., 0., 1., 0., 0., 0., 0., 0., 1.,\n",
            "        0., 0., 0., 1., 0., 0., 0., 1., 1., 0., 0., 1., 1., 0., 0., 0.])\n"
          ]
        }
      ]
    },
    {
      "cell_type": "code",
      "source": [
        "entrada_treinamento = entrada[0:150, :]\n",
        "saida_treinamento = saida[0:150]\n",
        "entrada_testes = entrada[150:178, :]\n",
        "saida_testes = saida[150:178]\n",
        "print(entrada_testes)\n",
        "print(saida_testes)"
      ],
      "metadata": {
        "colab": {
          "base_uri": "https://localhost:8080/"
        },
        "id": "yBPqiQdpl5ei",
        "outputId": "16f01e07-b0c0-4844-9a46-e51b2b22b17d"
      },
      "execution_count": null,
      "outputs": [
        {
          "output_type": "stream",
          "name": "stdout",
          "text": [
            "tensor([[0.1382, 0.1750, 0.2420, 0.1400, 0.1110, 0.3880, 0.3740, 0.3200, 0.1870,\n",
            "         0.0705, 0.1010, 0.3260, 0.1190],\n",
            "        [0.1242, 0.1610, 0.2190, 0.2250, 0.1080, 0.2000, 0.2090, 0.3400, 0.1610,\n",
            "         0.0206, 0.1060, 0.2960, 0.0345],\n",
            "        [0.1270, 0.3870, 0.2400, 0.2300, 0.1010, 0.2830, 0.2550, 0.4300, 0.1950,\n",
            "         0.0257, 0.1190, 0.3130, 0.0463],\n",
            "        [0.1387, 0.1900, 0.2800, 0.1940, 0.1070, 0.2950, 0.2970, 0.3700, 0.1760,\n",
            "         0.0450, 0.1250, 0.3400, 0.0915],\n",
            "        [0.1229, 0.3170, 0.2210, 0.1800, 0.0880, 0.2850, 0.2990, 0.4500, 0.2810,\n",
            "         0.0230, 0.1420, 0.2830, 0.0406],\n",
            "        [0.1406, 0.2150, 0.2610, 0.1760, 0.1210, 0.2600, 0.2510, 0.3100, 0.1250,\n",
            "         0.0505, 0.1060, 0.3580, 0.1295],\n",
            "        [0.1277, 0.3430, 0.1980, 0.1600, 0.0800, 0.1630, 0.1250, 0.4300, 0.0830,\n",
            "         0.0340, 0.0700, 0.2120, 0.0372],\n",
            "        [0.1378, 0.2760, 0.2300, 0.2200, 0.0900, 0.1350, 0.0680, 0.4100, 0.1030,\n",
            "         0.0958, 0.0700, 0.1680, 0.0615],\n",
            "        [0.1221, 0.1190, 0.1750, 0.1680, 0.1510, 0.1850, 0.1280, 0.1400, 0.2500,\n",
            "         0.0285, 0.1280, 0.3070, 0.0718],\n",
            "        [0.1207, 0.2160, 0.2170, 0.2100, 0.0850, 0.2600, 0.2650, 0.3700, 0.1350,\n",
            "         0.0276, 0.0860, 0.3280, 0.0378],\n",
            "        [0.1141, 0.0740, 0.2500, 0.2100, 0.0880, 0.2480, 0.2010, 0.4200, 0.1440,\n",
            "         0.0308, 0.1100, 0.2310, 0.0434],\n",
            "        [0.1419, 0.1590, 0.2480, 0.1650, 0.1080, 0.3300, 0.3930, 0.3200, 0.1860,\n",
            "         0.0870, 0.1230, 0.2820, 0.1680],\n",
            "        [0.1386, 0.1510, 0.2670, 0.2500, 0.0860, 0.2950, 0.2860, 0.2100, 0.1870,\n",
            "         0.0338, 0.1360, 0.3160, 0.0410],\n",
            "        [0.1243, 0.1530, 0.2290, 0.2150, 0.0860, 0.2740, 0.3150, 0.3900, 0.1770,\n",
            "         0.0394, 0.0690, 0.2840, 0.0352],\n",
            "        [0.1252, 0.2430, 0.2170, 0.2100, 0.0880, 0.2550, 0.2270, 0.2600, 0.1220,\n",
            "         0.0200, 0.0900, 0.2780, 0.0325],\n",
            "        [0.1394, 0.1730, 0.2270, 0.1740, 0.1080, 0.2880, 0.3540, 0.3200, 0.2080,\n",
            "         0.0890, 0.1120, 0.3100, 0.1260],\n",
            "        [0.1416, 0.2510, 0.2480, 0.2000, 0.0910, 0.1680, 0.0700, 0.4400, 0.1240,\n",
            "         0.0970, 0.0620, 0.1710, 0.0660],\n",
            "        [0.1162, 0.1990, 0.2280, 0.1800, 0.0980, 0.3020, 0.2260, 0.1700, 0.1350,\n",
            "         0.0325, 0.1160, 0.2960, 0.0345],\n",
            "        [0.1434, 0.1680, 0.2700, 0.2500, 0.0980, 0.2800, 0.1310, 0.5300, 0.2700,\n",
            "         0.1300, 0.0570, 0.1960, 0.0660],\n",
            "        [0.1422, 0.3990, 0.2510, 0.1320, 0.1280, 0.3000, 0.3040, 0.2000, 0.2080,\n",
            "         0.0510, 0.0890, 0.3530, 0.0760],\n",
            "        [0.1406, 0.1630, 0.2280, 0.1600, 0.1260, 0.3000, 0.3170, 0.2400, 0.2100,\n",
            "         0.0565, 0.1090, 0.3710, 0.0780],\n",
            "        [0.1242, 0.2550, 0.2270, 0.2200, 0.0900, 0.1680, 0.1840, 0.6600, 0.1420,\n",
            "         0.0270, 0.0860, 0.3300, 0.0315],\n",
            "        [0.1166, 0.1880, 0.1920, 0.1600, 0.0970, 0.1610, 0.1570, 0.3400, 0.1150,\n",
            "         0.0380, 0.1230, 0.2140, 0.0428],\n",
            "        [0.1363, 0.1810, 0.2700, 0.1720, 0.1120, 0.2850, 0.2910, 0.3000, 0.1460,\n",
            "         0.0730, 0.1280, 0.2880, 0.1310],\n",
            "        [0.1293, 0.3800, 0.2650, 0.1860, 0.1020, 0.2410, 0.2410, 0.2500, 0.1980,\n",
            "         0.0450, 0.1030, 0.3520, 0.0770],\n",
            "        [0.1345, 0.3700, 0.2600, 0.2300, 0.1110, 0.1700, 0.0920, 0.4300, 0.1460,\n",
            "         0.1068, 0.0850, 0.1560, 0.0695],\n",
            "        [0.1182, 0.1720, 0.1880, 0.1950, 0.0860, 0.2500, 0.1640, 0.3700, 0.1420,\n",
            "         0.0206, 0.0940, 0.2440, 0.0415],\n",
            "        [0.1279, 0.2670, 0.2480, 0.2200, 0.1120, 0.1480, 0.1360, 0.2400, 0.1260,\n",
            "         0.1080, 0.0480, 0.1470, 0.0480]])\n",
            "tensor([1., 0., 0., 1., 0., 1., 0., 0., 0., 0., 0., 1., 0., 0., 0., 1., 0., 0.,\n",
            "        0., 1., 1., 0., 0., 1., 1., 0., 0., 0.])\n"
          ]
        }
      ]
    },
    {
      "cell_type": "code",
      "source": [
        "# Montar o modelo para o treinamento\n",
        "print(entrada_treinamento.size())\n",
        "input_size = entrada_treinamento.size()[1]\n",
        "hidden_size = 10\n",
        "modelo = Net(input_size, hidden_size)\n",
        "print(modelo)\n",
        "\n",
        "# Configurações do modelo\n",
        "criterion = torch.nn.BCELoss() # Binary Cross Entropy\n",
        "criterion = torch.nn.MSELoss() # Mean Square Error\n",
        "optimizer = torch.optim.SGD(modelo.parameters(), lr = 0.9, momentum = 0.2)"
      ],
      "metadata": {
        "colab": {
          "base_uri": "https://localhost:8080/"
        },
        "id": "y14gs1jimk-9",
        "outputId": "09f9e371-d575-4d88-e8cd-78341f8fc518"
      },
      "execution_count": null,
      "outputs": [
        {
          "output_type": "stream",
          "name": "stdout",
          "text": [
            "torch.Size([150, 13])\n",
            "Net(\n",
            "  (fc1): Linear(in_features=13, out_features=10, bias=True)\n",
            "  (relu): ReLU()\n",
            "  (fc2): Linear(in_features=10, out_features=1, bias=True)\n",
            "  (sigmoid): Sigmoid()\n",
            ")\n"
          ]
        }
      ]
    },
    {
      "cell_type": "code",
      "source": [
        "epochs = 3000 # Quantidade de épocas de treinamento\n",
        "\n",
        "errors = [] # Criando um array vazio para guardar os erros de cada epoca\n",
        "\n",
        "for epoch in range(epochs):\n",
        "  optimizer.zero_grad()\n",
        "  # Forward pass\n",
        "  y_pred = modelo(entrada_treinamento)\n",
        "  #Compute Loss\n",
        "  loss = criterion(y_pred.squeeze(), saida_treinamento)\n",
        "  errors.append(loss.item())\n",
        "  if epoch % 10000 == 0:\n",
        "    print('Epoch {}: train loss: {}'.format(epoch, loss.item()))\n",
        "  #Backward pass\n",
        "  loss.backward()\n",
        "  optimizer.step()"
      ],
      "metadata": {
        "colab": {
          "base_uri": "https://localhost:8080/"
        },
        "id": "3pJb_Z-Sm6r4",
        "outputId": "febba0fb-b26b-4eb8-afe8-331c6e0b7d6c"
      },
      "execution_count": null,
      "outputs": [
        {
          "output_type": "stream",
          "name": "stdout",
          "text": [
            "Epoch 0: train loss: 0.2842795252799988\n"
          ]
        }
      ]
    },
    {
      "cell_type": "code",
      "source": [
        "y_pred = modelo(entrada_testes)\n",
        "print(y_pred) # valor previsto pela rede\n",
        "print(saida_testes) # valor real"
      ],
      "metadata": {
        "colab": {
          "base_uri": "https://localhost:8080/"
        },
        "id": "yDaQ7p7wnXTk",
        "outputId": "95cb5f73-225a-40f5-b0f1-65cd7a352778"
      },
      "execution_count": null,
      "outputs": [
        {
          "output_type": "stream",
          "name": "stdout",
          "text": [
            "tensor([[9.8961e-01],\n",
            "        [1.9466e-04],\n",
            "        [3.5333e-02],\n",
            "        [9.6215e-01],\n",
            "        [2.2918e-02],\n",
            "        [9.9523e-01],\n",
            "        [1.0143e-03],\n",
            "        [3.9069e-04],\n",
            "        [2.0774e-03],\n",
            "        [6.0368e-03],\n",
            "        [2.4602e-04],\n",
            "        [9.9518e-01],\n",
            "        [5.6700e-03],\n",
            "        [3.3421e-03],\n",
            "        [9.5259e-04],\n",
            "        [9.8777e-01],\n",
            "        [2.3618e-03],\n",
            "        [8.4062e-03],\n",
            "        [6.3424e-04],\n",
            "        [9.9317e-01],\n",
            "        [9.6383e-01],\n",
            "        [6.5719e-04],\n",
            "        [5.5127e-04],\n",
            "        [9.9444e-01],\n",
            "        [9.5499e-01],\n",
            "        [6.3331e-03],\n",
            "        [6.0815e-05],\n",
            "        [6.4850e-04]], grad_fn=<SigmoidBackward0>)\n",
            "tensor([1., 0., 0., 1., 0., 1., 0., 0., 0., 0., 0., 1., 0., 0., 0., 1., 0., 0.,\n",
            "        0., 1., 1., 0., 0., 1., 1., 0., 0., 0.])\n"
          ]
        }
      ]
    },
    {
      "cell_type": "code",
      "source": [
        "import matplotlib.pyplot as plt\n",
        "import numpy as np\n",
        "def plotcharts(errors):\n",
        "    errors = np.array(errors)\n",
        "    plt.figure(figsize=(12, 5))\n",
        "    graf02 = plt.subplot(1, 2, 1) # nrows, ncols, index\n",
        "    graf02.set_title('Errors')\n",
        "    plt.plot(errors, '-')\n",
        "    plt.xlabel('Epochs')\n",
        "    graf03 = plt.subplot(1, 2, 2)\n",
        "    graf03.set_title('Tests')\n",
        "    a = plt.plot(saida_testes.numpy(), 'yo', label='Real')\n",
        "    plt.setp(a, markersize=10)\n",
        "    a = plt.plot(y_pred.detach().numpy(), 'b+', label='Predicted')\n",
        "    plt.setp(a, markersize=10)\n",
        "    plt.legend(loc=7)\n",
        "    plt.show()\n",
        "plotcharts(errors)"
      ],
      "metadata": {
        "colab": {
          "base_uri": "https://localhost:8080/",
          "height": 350
        },
        "id": "Y777BTvvngmU",
        "outputId": "7294f515-884d-4fc0-f493-0b27f71c1b0b"
      },
      "execution_count": null,
      "outputs": [
        {
          "output_type": "display_data",
          "data": {
            "text/plain": [
              "<Figure size 864x360 with 2 Axes>"
            ],
            "image/png": "[encoded data removed]"
          },
          "metadata": {
            "needs_background": "light"
          }
        }
      ]
    },
    {
      "cell_type": "code",
      "source": [
        "classes.size"
      ],
      "metadata": {
        "colab": {
          "base_uri": "https://localhost:8080/"
        },
        "id": "pjunMpdjoRRl",
        "outputId": "15bf8869-eadf-4b1b-fcc2-2926d7922564"
      },
      "execution_count": null,
      "outputs": [
        {
          "output_type": "execute_result",
          "data": {
            "text/plain": [
              "178"
            ]
          },
          "metadata": {},
          "execution_count": 15
        }
      ]
    }
  ]
}