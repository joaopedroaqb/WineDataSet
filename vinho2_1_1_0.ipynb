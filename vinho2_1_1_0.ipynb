{
  "nbformat": 4,
  "nbformat_minor": 0,
  "metadata": {
    "colab": {
      "provenance": []
    },
    "kernelspec": {
      "name": "python3",
      "display_name": "Python 3"
    },
    "language_info": {
      "name": "python"
    }
  },
  "cells": [
    {
      "cell_type": "markdown",
      "source": [
        "Relatorio:\n",
        "\n",
        "* Serão 3 tipos de classes.\n",
        "  - Sendo atribuido valores ao primeiro de 59\n",
        "  - Ao segundo de  segundo de 71 \n",
        "  - Ao terceiro de 48.\n",
        "  \n",
        "* No total termos um total de 178. \n",
        "* Com uma dimensão de valor 13.\n",
        "* tendo no final dois valores existentes\n",
        "  - Real ou Positivo."
      ],
      "metadata": {
        "id": "lZ4hzQs6buuv"
      }
    },
    {
      "cell_type": "code",
      "source": [
        "import torch"
      ],
      "metadata": {
        "id": "NaO653oQfKjr"
      },
      "execution_count": null,
      "outputs": []
    },
    {
      "cell_type": "code",
      "source": [
        "class Net(torch.nn.Module):\n",
        "  def __init__(self, input_size, hidden_size):\n",
        "    super(Net, self).__init__()\n",
        "    self.input_size = input_size\n",
        "    self.hidden_size = hidden_size\n",
        "    self.fc1 = torch.nn.Linear(self.input_size, self.hidden_size) #full connected\n",
        "    self.relu = torch.nn.ReLU() #(0, infinito)\n",
        "    self.fc2 = torch.nn.Linear(self.hidden_size, 1)\n",
        "    self.sigmoid = torch.nn.Sigmoid() #(0, 1)\n",
        "  def forward(self, x):\n",
        "    hidden = self.fc1(x)\n",
        "    relu = self.relu(hidden)\n",
        "    output = self.fc2(relu)\n",
        "    output = self.sigmoid(output)\n",
        "    return output"
      ],
      "metadata": {
        "id": "YtksPpr5f6QY"
      },
      "execution_count": null,
      "outputs": []
    },
    {
      "cell_type": "code",
      "source": [
        "from sklearn import datasets\n",
        "wine = datasets.load_wine()\n",
        "dados = wine.data\n",
        "classes = wine.target\n",
        "nomesClasses = wine.target_names"
      ],
      "metadata": {
        "id": "AEG3VXZtgD1_"
      },
      "execution_count": null,
      "outputs": []
    },
    {
      "cell_type": "code",
      "source": [
        "classes.size"
      ],
      "metadata": {
        "colab": {
          "base_uri": "https://localhost:8080/"
        },
        "id": "fZNC7SXIjPpt",
        "outputId": "3c9c1c28-e6fc-49cc-db7f-2e9ad6a134e4"
      },
      "execution_count": null,
      "outputs": [
        {
          "output_type": "execute_result",
          "data": {
            "text/plain": [
              "178"
            ]
          },
          "metadata": {},
          "execution_count": 19
        }
      ]
    },
    {
      "cell_type": "code",
      "source": [
        "dados"
      ],
      "metadata": {
        "colab": {
          "base_uri": "https://localhost:8080/"
        },
        "id": "32pS018rjULt",
        "outputId": "ecb2a045-6728-480d-822f-b06249bd67ab"
      },
      "execution_count": null,
      "outputs": [
        {
          "output_type": "execute_result",
          "data": {
            "text/plain": [
              "array([[1.423e+01, 1.710e+00, 2.430e+00, ..., 1.040e+00, 3.920e+00,\n",
              "        1.065e+03],\n",
              "       [1.320e+01, 1.780e+00, 2.140e+00, ..., 1.050e+00, 3.400e+00,\n",
              "        1.050e+03],\n",
              "       [1.316e+01, 2.360e+00, 2.670e+00, ..., 1.030e+00, 3.170e+00,\n",
              "        1.185e+03],\n",
              "       ...,\n",
              "       [1.327e+01, 4.280e+00, 2.260e+00, ..., 5.900e-01, 1.560e+00,\n",
              "        8.350e+02],\n",
              "       [1.317e+01, 2.590e+00, 2.370e+00, ..., 6.000e-01, 1.620e+00,\n",
              "        8.400e+02],\n",
              "       [1.413e+01, 4.100e+00, 2.740e+00, ..., 6.100e-01, 1.600e+00,\n",
              "        5.600e+02]])"
            ]
          },
          "metadata": {},
          "execution_count": 20
        }
      ]
    },
    {
      "cell_type": "code",
      "source": [
        "for coluna in dados.T:\n",
        "  # print(coluna.max()) # Valores máximos de cada coluna\n",
        "  if coluna.max() < 1:\n",
        "    coluna = coluna / 1\n",
        "  elif coluna.max() < 10:\n",
        "    coluna /= 10\n",
        "  elif coluna.max() < 100:\n",
        "    coluna /= 100\n",
        "  elif coluna.max() < 1000:\n",
        "    coluna /= 1000\n",
        "  elif coluna.max() < 10000:\n",
        "    coluna /= 10000\n",
        "  else:\n",
        "    print('Erro')"
      ],
      "metadata": {
        "id": "FpzON1BLIWct"
      },
      "execution_count": null,
      "outputs": []
    },
    {
      "cell_type": "code",
      "source": [
        "import numpy as np\n",
        "# saida = np.where(condição, true, false)\n",
        "saida = np.where(classes== 1, 1, 0)\n",
        "print(saida)"
      ],
      "metadata": {
        "colab": {
          "base_uri": "https://localhost:8080/"
        },
        "id": "cEAonZ4go0ac",
        "outputId": "40e488fd-0b2c-45f9-e3e8-50caef5fceb4"
      },
      "execution_count": null,
      "outputs": [
        {
          "output_type": "stream",
          "name": "stdout",
          "text": [
            "[0 0 0 0 0 0 0 0 0 0 0 0 0 0 0 0 0 0 0 0 0 0 0 0 0 0 0 0 0 0 0 0 0 0 0 0 0\n",
            " 0 0 0 0 0 0 0 0 0 0 0 0 0 0 0 0 0 0 0 0 0 0 1 1 1 1 1 1 1 1 1 1 1 1 1 1 1\n",
            " 1 1 1 1 1 1 1 1 1 1 1 1 1 1 1 1 1 1 1 1 1 1 1 1 1 1 1 1 1 1 1 1 1 1 1 1 1\n",
            " 1 1 1 1 1 1 1 1 1 1 1 1 1 1 1 1 1 1 1 0 0 0 0 0 0 0 0 0 0 0 0 0 0 0 0 0 0\n",
            " 0 0 0 0 0 0 0 0 0 0 0 0 0 0 0 0 0 0 0 0 0 0 0 0 0 0 0 0 0 0]\n"
          ]
        }
      ]
    },
    {
      "cell_type": "code",
      "source": [
        "entrada = torch.FloatTensor(dados)\n",
        "saida = torch.FloatTensor(saida)\n",
        "print(saida)"
      ],
      "metadata": {
        "colab": {
          "base_uri": "https://localhost:8080/"
        },
        "id": "A-Uvv_piqJwZ",
        "outputId": "063b5f07-897c-4582-91b8-bf272966b46a"
      },
      "execution_count": null,
      "outputs": [
        {
          "output_type": "stream",
          "name": "stdout",
          "text": [
            "tensor([0., 0., 0., 0., 0., 0., 0., 0., 0., 0., 0., 0., 0., 0., 0., 0., 0., 0.,\n",
            "        0., 0., 0., 0., 0., 0., 0., 0., 0., 0., 0., 0., 0., 0., 0., 0., 0., 0.,\n",
            "        0., 0., 0., 0., 0., 0., 0., 0., 0., 0., 0., 0., 0., 0., 0., 0., 0., 0.,\n",
            "        0., 0., 0., 0., 0., 1., 1., 1., 1., 1., 1., 1., 1., 1., 1., 1., 1., 1.,\n",
            "        1., 1., 1., 1., 1., 1., 1., 1., 1., 1., 1., 1., 1., 1., 1., 1., 1., 1.,\n",
            "        1., 1., 1., 1., 1., 1., 1., 1., 1., 1., 1., 1., 1., 1., 1., 1., 1., 1.,\n",
            "        1., 1., 1., 1., 1., 1., 1., 1., 1., 1., 1., 1., 1., 1., 1., 1., 1., 1.,\n",
            "        1., 1., 1., 1., 0., 0., 0., 0., 0., 0., 0., 0., 0., 0., 0., 0., 0., 0.,\n",
            "        0., 0., 0., 0., 0., 0., 0., 0., 0., 0., 0., 0., 0., 0., 0., 0., 0., 0.,\n",
            "        0., 0., 0., 0., 0., 0., 0., 0., 0., 0., 0., 0., 0., 0., 0., 0.])\n"
          ]
        }
      ]
    },
    {
      "cell_type": "code",
      "source": [
        "from sklearn.utils import shuffle\n",
        "print(entrada, saida)\n",
        "entrada, saida = shuffle(entrada, saida)\n",
        "print(entrada, saida)"
      ],
      "metadata": {
        "colab": {
          "base_uri": "https://localhost:8080/"
        },
        "id": "Dkb5xrPQlpCW",
        "outputId": "8d6d00f1-8b64-4ec6-dcbf-7ba779535c9d"
      },
      "execution_count": null,
      "outputs": [
        {
          "output_type": "stream",
          "name": "stdout",
          "text": [
            "tensor([[0.1423, 0.1710, 0.2430,  ..., 0.1040, 0.3920, 0.1065],\n",
            "        [0.1320, 0.1780, 0.2140,  ..., 0.1050, 0.3400, 0.1050],\n",
            "        [0.1316, 0.2360, 0.2670,  ..., 0.1030, 0.3170, 0.1185],\n",
            "        ...,\n",
            "        [0.1327, 0.4280, 0.2260,  ..., 0.0590, 0.1560, 0.0835],\n",
            "        [0.1317, 0.2590, 0.2370,  ..., 0.0600, 0.1620, 0.0840],\n",
            "        [0.1413, 0.4100, 0.2740,  ..., 0.0610, 0.1600, 0.0560]]) tensor([0., 0., 0., 0., 0., 0., 0., 0., 0., 0., 0., 0., 0., 0., 0., 0., 0., 0.,\n",
            "        0., 0., 0., 0., 0., 0., 0., 0., 0., 0., 0., 0., 0., 0., 0., 0., 0., 0.,\n",
            "        0., 0., 0., 0., 0., 0., 0., 0., 0., 0., 0., 0., 0., 0., 0., 0., 0., 0.,\n",
            "        0., 0., 0., 0., 0., 1., 1., 1., 1., 1., 1., 1., 1., 1., 1., 1., 1., 1.,\n",
            "        1., 1., 1., 1., 1., 1., 1., 1., 1., 1., 1., 1., 1., 1., 1., 1., 1., 1.,\n",
            "        1., 1., 1., 1., 1., 1., 1., 1., 1., 1., 1., 1., 1., 1., 1., 1., 1., 1.,\n",
            "        1., 1., 1., 1., 1., 1., 1., 1., 1., 1., 1., 1., 1., 1., 1., 1., 1., 1.,\n",
            "        1., 1., 1., 1., 0., 0., 0., 0., 0., 0., 0., 0., 0., 0., 0., 0., 0., 0.,\n",
            "        0., 0., 0., 0., 0., 0., 0., 0., 0., 0., 0., 0., 0., 0., 0., 0., 0., 0.,\n",
            "        0., 0., 0., 0., 0., 0., 0., 0., 0., 0., 0., 0., 0., 0., 0., 0.])\n",
            "tensor([[0.1208, 0.1330, 0.2300,  ..., 0.1070, 0.3210, 0.0625],\n",
            "        [0.1103, 0.1510, 0.2200,  ..., 0.1710, 0.2870, 0.0407],\n",
            "        [0.1369, 0.3260, 0.2540,  ..., 0.0960, 0.1820, 0.0680],\n",
            "        ...,\n",
            "        [0.1421, 0.4040, 0.2440,  ..., 0.0870, 0.3330, 0.1080],\n",
            "        [0.1438, 0.1870, 0.2380,  ..., 0.1200, 0.3000, 0.1547],\n",
            "        [0.1260, 0.2460, 0.2200,  ..., 0.0730, 0.1580, 0.0695]]) tensor([1., 1., 0., 1., 1., 1., 0., 0., 0., 1., 1., 0., 0., 1., 0., 0., 0., 0.,\n",
            "        0., 1., 1., 0., 1., 1., 0., 1., 0., 0., 0., 1., 1., 1., 0., 1., 0., 0.,\n",
            "        0., 1., 0., 1., 1., 0., 0., 1., 0., 0., 0., 1., 1., 1., 1., 0., 0., 1.,\n",
            "        0., 1., 1., 0., 0., 0., 0., 1., 0., 0., 0., 0., 0., 0., 0., 0., 0., 1.,\n",
            "        0., 0., 0., 1., 0., 1., 1., 0., 0., 1., 0., 0., 0., 1., 1., 0., 1., 0.,\n",
            "        1., 1., 1., 0., 1., 1., 1., 0., 0., 1., 1., 0., 1., 0., 0., 1., 0., 0.,\n",
            "        1., 0., 1., 0., 0., 1., 0., 0., 0., 1., 1., 0., 1., 0., 0., 0., 0., 0.,\n",
            "        1., 0., 0., 1., 1., 1., 1., 1., 0., 0., 0., 0., 1., 1., 1., 0., 0., 0.,\n",
            "        0., 0., 0., 1., 0., 0., 1., 0., 1., 0., 0., 0., 0., 0., 0., 0., 0., 0.,\n",
            "        1., 1., 1., 1., 0., 0., 0., 0., 1., 0., 1., 0., 0., 0., 0., 0.])\n"
          ]
        }
      ]
    },
    {
      "cell_type": "code",
      "source": [
        "entrada_treinamento = entrada[0:150, :]\n",
        "saida_treinamento = saida[0:150]\n",
        "entrada_testes = entrada[150:178, :]\n",
        "saida_testes = saida[150:178]\n",
        "print(entrada_testes)\n",
        "print(saida_testes)"
      ],
      "metadata": {
        "colab": {
          "base_uri": "https://localhost:8080/"
        },
        "id": "yBPqiQdpl5ei",
        "outputId": "bcef320f-506f-46b1-939b-1cb4aa5cd73d"
      },
      "execution_count": null,
      "outputs": [
        {
          "output_type": "stream",
          "name": "stdout",
          "text": [
            "tensor([[0.1184, 0.2890, 0.2230, 0.1800, 0.1120, 0.1720, 0.1320, 0.4300, 0.0950,\n",
            "         0.0265, 0.0960, 0.2520, 0.0500],\n",
            "        [0.1281, 0.2310, 0.2400, 0.2400, 0.0980, 0.1150, 0.1090, 0.2700, 0.0830,\n",
            "         0.0570, 0.0660, 0.1360, 0.0560],\n",
            "        [0.1234, 0.2450, 0.2460, 0.2100, 0.0980, 0.2560, 0.2110, 0.3400, 0.1310,\n",
            "         0.0280, 0.0800, 0.3380, 0.0438],\n",
            "        [0.1270, 0.3550, 0.2360, 0.2150, 0.1060, 0.1700, 0.1200, 0.1700, 0.0840,\n",
            "         0.0500, 0.0780, 0.1290, 0.0600],\n",
            "        [0.1358, 0.2580, 0.2690, 0.2450, 0.1050, 0.1550, 0.0840, 0.3900, 0.1540,\n",
            "         0.0866, 0.0740, 0.1800, 0.0750],\n",
            "        [0.1422, 0.3990, 0.2510, 0.1320, 0.1280, 0.3000, 0.3040, 0.2000, 0.2080,\n",
            "         0.0510, 0.0890, 0.3530, 0.0760],\n",
            "        [0.1362, 0.4950, 0.2350, 0.2000, 0.0920, 0.2000, 0.0800, 0.4700, 0.1020,\n",
            "         0.0440, 0.0910, 0.2050, 0.0550],\n",
            "        [0.1368, 0.1830, 0.2360, 0.1720, 0.1040, 0.2420, 0.2690, 0.4200, 0.1970,\n",
            "         0.0384, 0.1230, 0.2870, 0.0990],\n",
            "        [0.1371, 0.1860, 0.2360, 0.1660, 0.1010, 0.2610, 0.2880, 0.2700, 0.1690,\n",
            "         0.0380, 0.1110, 0.4000, 0.1035],\n",
            "        [0.1320, 0.1780, 0.2140, 0.1120, 0.1000, 0.2650, 0.2760, 0.2600, 0.1280,\n",
            "         0.0438, 0.1050, 0.3400, 0.1050],\n",
            "        [0.1422, 0.1700, 0.2300, 0.1630, 0.1180, 0.3200, 0.3000, 0.2600, 0.2030,\n",
            "         0.0638, 0.0940, 0.3310, 0.0970],\n",
            "        [0.1475, 0.1730, 0.2390, 0.1140, 0.0910, 0.3100, 0.3690, 0.4300, 0.2810,\n",
            "         0.0540, 0.1250, 0.2730, 0.1150],\n",
            "        [0.1237, 0.0940, 0.1360, 0.1060, 0.0880, 0.1980, 0.0570, 0.2800, 0.0420,\n",
            "         0.0195, 0.1050, 0.1820, 0.0520],\n",
            "        [0.1233, 0.0990, 0.1950, 0.1480, 0.1360, 0.1900, 0.1850, 0.3500, 0.2760,\n",
            "         0.0340, 0.1060, 0.2310, 0.0750],\n",
            "        [0.1277, 0.3430, 0.1980, 0.1600, 0.0800, 0.1630, 0.1250, 0.4300, 0.0830,\n",
            "         0.0340, 0.0700, 0.2120, 0.0372],\n",
            "        [0.1270, 0.3870, 0.2400, 0.2300, 0.1010, 0.2830, 0.2550, 0.4300, 0.1950,\n",
            "         0.0257, 0.1190, 0.3130, 0.0463],\n",
            "        [0.1323, 0.3300, 0.2280, 0.1850, 0.0980, 0.1800, 0.0830, 0.6100, 0.1870,\n",
            "         0.1052, 0.0560, 0.1510, 0.0675],\n",
            "        [0.1236, 0.3830, 0.2380, 0.2100, 0.0880, 0.2300, 0.0920, 0.5000, 0.1040,\n",
            "         0.0765, 0.0560, 0.1580, 0.0520],\n",
            "        [0.1330, 0.1720, 0.2140, 0.1700, 0.0940, 0.2400, 0.2190, 0.2700, 0.1350,\n",
            "         0.0395, 0.1020, 0.2770, 0.1285],\n",
            "        [0.1282, 0.3370, 0.2300, 0.1950, 0.0880, 0.1480, 0.0660, 0.4000, 0.0970,\n",
            "         0.1026, 0.0720, 0.1750, 0.0685],\n",
            "        [0.1237, 0.1170, 0.1920, 0.1960, 0.0780, 0.2110, 0.2000, 0.2700, 0.1040,\n",
            "         0.0468, 0.1120, 0.3480, 0.0510],\n",
            "        [0.1420, 0.1760, 0.2450, 0.1520, 0.1120, 0.3270, 0.3390, 0.3400, 0.1970,\n",
            "         0.0675, 0.1050, 0.2850, 0.1450],\n",
            "        [0.1272, 0.1810, 0.2200, 0.1880, 0.0860, 0.2200, 0.2530, 0.2600, 0.1770,\n",
            "         0.0390, 0.1160, 0.3140, 0.0714],\n",
            "        [0.1286, 0.1350, 0.2320, 0.1800, 0.1220, 0.1510, 0.1250, 0.2100, 0.0940,\n",
            "         0.0410, 0.0760, 0.1290, 0.0630],\n",
            "        [0.1378, 0.2760, 0.2300, 0.2200, 0.0900, 0.1350, 0.0680, 0.4100, 0.1030,\n",
            "         0.0958, 0.0700, 0.1680, 0.0615],\n",
            "        [0.1421, 0.4040, 0.2440, 0.1890, 0.1110, 0.2850, 0.2650, 0.3000, 0.1250,\n",
            "         0.0524, 0.0870, 0.3330, 0.1080],\n",
            "        [0.1438, 0.1870, 0.2380, 0.1200, 0.1020, 0.3300, 0.3640, 0.2900, 0.2960,\n",
            "         0.0750, 0.1200, 0.3000, 0.1547],\n",
            "        [0.1260, 0.2460, 0.2200, 0.1850, 0.0940, 0.1620, 0.0660, 0.6300, 0.0940,\n",
            "         0.0710, 0.0730, 0.1580, 0.0695]])\n",
            "tensor([1., 0., 1., 0., 0., 0., 0., 0., 0., 0., 0., 0., 1., 1., 1., 1., 0., 0.,\n",
            "        0., 0., 1., 0., 1., 0., 0., 0., 0., 0.])\n"
          ]
        }
      ]
    },
    {
      "cell_type": "code",
      "source": [
        "# Montar o modelo para o treinamento\n",
        "print(entrada_treinamento.size())\n",
        "input_size = entrada_treinamento.size()[1]\n",
        "hidden_size = 25\n",
        "modelo = Net(input_size, hidden_size)\n",
        "print(modelo)\n",
        "\n",
        "# Configurações do modelo\n",
        "criterion = torch.nn.BCELoss() # Binary Cross Entropy\n",
        "criterion = torch.nn.MSELoss() # Mean Square Error\n",
        "optimizer = torch.optim.SGD(modelo.parameters(), lr = 0.9, momentum = 0.2)"
      ],
      "metadata": {
        "colab": {
          "base_uri": "https://localhost:8080/"
        },
        "id": "y14gs1jimk-9",
        "outputId": "18ffdb51-5340-40fd-a500-3db268fd7ef2"
      },
      "execution_count": null,
      "outputs": [
        {
          "output_type": "stream",
          "name": "stdout",
          "text": [
            "torch.Size([150, 13])\n",
            "Net(\n",
            "  (fc1): Linear(in_features=13, out_features=25, bias=True)\n",
            "  (relu): ReLU()\n",
            "  (fc2): Linear(in_features=25, out_features=1, bias=True)\n",
            "  (sigmoid): Sigmoid()\n",
            ")\n"
          ]
        }
      ]
    },
    {
      "cell_type": "code",
      "source": [
        "epochs = 30000 # Quantidade de épocas de treinamento\n",
        "\n",
        "errors = [] # Criando um array vazio para guardar os erros de cada epoca\n",
        "\n",
        "for epoch in range(epochs):\n",
        "  optimizer.zero_grad()\n",
        "  # Forward pass\n",
        "  y_pred = modelo(entrada_treinamento)\n",
        "  #Compute Loss\n",
        "  loss = criterion(y_pred.squeeze(), saida_treinamento)\n",
        "  errors.append(loss.item())\n",
        "  if epoch % 10000 == 0:\n",
        "    print('Epoch {}: train loss: {}'.format(epoch, loss.item()))\n",
        "  #Backward pass\n",
        "  loss.backward()\n",
        "  optimizer.step()"
      ],
      "metadata": {
        "colab": {
          "base_uri": "https://localhost:8080/"
        },
        "id": "3pJb_Z-Sm6r4",
        "outputId": "b4329285-f016-4c66-8cb5-8ed7af80cb73"
      },
      "execution_count": null,
      "outputs": [
        {
          "output_type": "stream",
          "name": "stdout",
          "text": [
            "Epoch 0: train loss: 0.2544736862182617\n",
            "Epoch 10000: train loss: 0.0010781030869111419\n",
            "Epoch 20000: train loss: 0.00038347364170476794\n"
          ]
        }
      ]
    },
    {
      "cell_type": "code",
      "source": [
        "y_pred = modelo(entrada_testes)\n",
        "print(y_pred) # valor previsto pela rede\n",
        "print(saida_testes) # valor real"
      ],
      "metadata": {
        "colab": {
          "base_uri": "https://localhost:8080/"
        },
        "id": "yDaQ7p7wnXTk",
        "outputId": "cd03c6db-dad9-42fb-aec6-cfcd051c3efa"
      },
      "execution_count": null,
      "outputs": [
        {
          "output_type": "stream",
          "name": "stdout",
          "text": [
            "tensor([[9.9942e-01],\n",
            "        [1.5884e-01],\n",
            "        [9.9817e-01],\n",
            "        [2.1037e-02],\n",
            "        [4.5916e-07],\n",
            "        [1.9045e-07],\n",
            "        [6.4448e-03],\n",
            "        [2.6780e-02],\n",
            "        [1.7251e-04],\n",
            "        [9.4753e-06],\n",
            "        [1.7328e-06],\n",
            "        [8.5353e-07],\n",
            "        [1.0000e+00],\n",
            "        [9.9813e-01],\n",
            "        [9.9158e-01],\n",
            "        [9.9999e-01],\n",
            "        [8.5117e-09],\n",
            "        [3.6623e-05],\n",
            "        [4.1980e-05],\n",
            "        [1.2167e-08],\n",
            "        [9.9986e-01],\n",
            "        [6.1281e-11],\n",
            "        [9.7681e-01],\n",
            "        [7.8832e-01],\n",
            "        [9.2287e-07],\n",
            "        [4.3349e-08],\n",
            "        [1.0448e-12],\n",
            "        [1.8705e-04]], grad_fn=<SigmoidBackward0>)\n",
            "tensor([1., 0., 1., 0., 0., 0., 0., 0., 0., 0., 0., 0., 1., 1., 1., 1., 0., 0.,\n",
            "        0., 0., 1., 0., 1., 0., 0., 0., 0., 0.])\n"
          ]
        }
      ]
    },
    {
      "cell_type": "code",
      "source": [
        "import matplotlib.pyplot as plt\n",
        "import numpy as np\n",
        "def plotcharts(errors):\n",
        "    errors = np.array(errors)\n",
        "    plt.figure(figsize=(12, 5))\n",
        "    graf02 = plt.subplot(1, 2, 1) # nrows, ncols, index\n",
        "    graf02.set_title('Errors')\n",
        "    plt.plot(errors, '-')\n",
        "    plt.xlabel('Epochs')\n",
        "    graf03 = plt.subplot(1, 2, 2)\n",
        "    graf03.set_title('Tests')\n",
        "    a = plt.plot(saida_testes.numpy(), 'yo', label='Real')\n",
        "    plt.setp(a, markersize=10)\n",
        "    a = plt.plot(y_pred.detach().numpy(), 'b+', label='Predicted')\n",
        "    plt.setp(a, markersize=10)\n",
        "    plt.legend(loc=7)\n",
        "    plt.show()\n",
        "plotcharts(errors)"
      ],
      "metadata": {
        "colab": {
          "base_uri": "https://localhost:8080/",
          "height": 350
        },
        "id": "Y777BTvvngmU",
        "outputId": "96fd6f8a-806a-4eca-a189-297190d924ce"
      },
      "execution_count": null,
      "outputs": [
        {
          "output_type": "display_data",
          "data": {
            "text/plain": [
              "<Figure size 864x360 with 2 Axes>"
            ],
            "image/png": "[encoded data removed]"
          },
          "metadata": {
            "needs_background": "light"
          }
        }
      ]
    },
    {
      "cell_type": "code",
      "source": [
        "classes.size"
      ],
      "metadata": {
        "colab": {
          "base_uri": "https://localhost:8080/"
        },
        "id": "pjunMpdjoRRl",
        "outputId": "674d9541-f8e6-435c-ae0e-c9c4483bac60"
      },
      "execution_count": null,
      "outputs": [
        {
          "output_type": "execute_result",
          "data": {
            "text/plain": [
              "178"
            ]
          },
          "metadata": {},
          "execution_count": 30
        }
      ]
    }
  ]
}